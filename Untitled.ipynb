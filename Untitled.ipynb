{
 "cells": [
  {
   "cell_type": "markdown",
   "id": "2598df8c",
   "metadata": {},
   "source": [
    "# Ejercicios 1\n",
    "\n",
    "Antes de realizar los ejercicios consultar sobre lo siguiente:\n",
    "\n",
    "Este primer conjunto de problemas cubre los temas de manipulación básica de imágenes, resolución espacial y resolución del nivel de intensidad.\n",
    "\n",
    "Debe probar sus funciones con varias imágenes de entrada, además de las proporcionadas aquí. Incluya las imágenes de entrada y salida que utilizó para la experimentación.\n",
    "\n",
    "En la siguiente celda se importan las bibliotecas necesarias, se definen ciertas variables globales como la ruta a las imágenes, una lista con las imágenes a utilizar y una función global llamada rg, que devuelve la imagen como un array numpy (para acortar los códigos de los apartados siguientes)."
   ]
  },
  {
   "cell_type": "code",
   "execution_count": 2,
   "id": "3cc96893",
   "metadata": {},
   "outputs": [],
   "source": [
    "'''This is a definition script, so we do not have to rewrite code'''\n",
    "\n",
    "import numpy as np\n",
    "import cv2\n",
    "import matplotlib.pyplot as mplt\n",
    "\n",
    "\n",
    "# set matplotlib to print inline (Jupyter)\n",
    "%matplotlib inline\n",
    "\n",
    "# path prefix\n",
    "pth = './'\n",
    "\n",
    "# files to be used as samples\n",
    "# list *files* holds the names of the test images\n",
    "files = ['cameraman.png', 'moon.jpg', 'rose.bmp', 'skull.bmp', 'Woman.bmp','hut.jpg']\n",
    "\n",
    "# Usefull function\n",
    "def rg(img_path):\n",
    "    return cv2.imread(pth+img_path, cv2.IMREAD_GRAYSCALE)"
   ]
  },
  {
   "cell_type": "markdown",
   "id": "8c47c372",
   "metadata": {},
   "source": [
    "## Ejercicios\n",
    "### Basicos\n",
    "Lo necesario para hacerlos: \n",
    "- Representación de una imagen en un computador para poder trabajar con ella en programación\n",
    "- Operaciones básicas con matrices\n",
    "- Funciones básicas con numpy\n",
    "- Funciones basicas con Matplotlib\n",
    "- Funciones básicas con Opencv\n",
    "\n",
    "Ejercicios:\n",
    "1. Cargue la imagen desde un archivo y visualice la imagen. Determinar y mostrar el tamaño de la imagen. Finalmente, guarde una nueva copia de la imagen en un archivo nuevo.\n",
    "\n",
    "2. Escriba una función *rotar_imagen*, que volteé una imagen ya sea vertical u horizontalmente. La función debe tomar dos parámetros de entrada: la matriz que almacena los datos de la imagen y una bandera para indicar si la imagen debe voltearse vertical u horizontalmente. Utilice esta función para voltear una imagen de ejemplo tanto vertical como horizontalmente. **Sugerencia**: puede usar la indexación de matrices de numpy o la función [flip](https://docs.opencv.org/2.4/modules/core/doc/operations_on_arrays.html#flip) de OpenCV para resolver este problema.\n",
    "\n",
    "3. Escribe una función para generar el negativo de una imagen. Esto significa que se crea una nueva imagen en la que los valores de píxel son todos iguales a 1,0 menos el valor de píxel de la imagen original.\n",
    "\n",
    "4. Escriba una función de *intensidad_promedio*, que calcule el nivel de intensidad promedio de una imagen. Use esta función en imágenes de ejemplo y discuta sus resultados.\n",
    "\n",
    "5. Escriba una función *umbralizar_imagen* que establezca el umbral de una imagen en función de un nivel de umbral dado como parámetro de la función. La función debe tomar dos parámetros: la imagen a umbralizar y el nivel de umbral. El resultado de la función debería ser una nueva imagen umbralizada.\n",
    "\n",
    "6. Escriba una función *umbralizar_imagen_a_promedio* que tome una imagen como su único parámetro y limite esta imagen en función del valor de intensidad promedio de las imágenes. Sugerencia: simplemente escriba una nueva función que use las dos funciones recién escritas.\n",
    "\n",
    "7. Escriba una función que submuestree una imagen en escala de grises de tamaño 512x512 por factores de 2, es decir, 256, 128, 64 y muestre sus resultados. Hay varias maneras de hacer esto como se explica en el libro de texto. Puede simplemente submuestrear, promediar, etc. Describa cuál usó y por qué.\n",
    "\n",
    "### Intermedio\n",
    "Lo necesario para hacerlos: \n",
    "- Representación de una imagen en un computador para poder trabajar con ella en programación\n",
    "- Operaciones básicas con matrices\n",
    "- Funciones básicas con numpy\n",
    "- Funciones basicas con Matplotlib\n",
    "- Funciones básicas con Opencv\n",
    "- Histograma / ecualización de histograma\n",
    "\n",
    "Ejercicios:\n",
    "1. Implemente el código para una función que ejecuta la ecualización de histogramas en una imagen en escala de grises. Su código debe calcular el histograma de la imagen y usar el **cdf** como una función de transformación. La función debería devolver la imagen ecualizada como una matriz. Utilice la función para realizar la ecualización del histograma en las imágenes darkPollen.jpg, lightPollen.jpg, lowContrastPollen.jpg, pollen.jpg, spine.jpg y runway.jpg. Incluya gráficos y comparaciones entre los histogramas de las imágenes corregidas con los de los originales. También incluya una gráfica de la función de transformación que iguala los histogramas de entrada.\n",
    "\n",
    "    Para resolver este punto, debe crear una función que recibe una array de la imagen a la que se le quiere aplicar la ecualización de histograma como parametro. A la imagen se le hallan los valores del histograma, con esos valores se construye la cdf para los valores del histograma que no son cero. luego se obtienen los valores de intensidad de píxeles que se encuentran en la imagen, para establecer una correspondencia entre estos y la cdf. Luego se aplica la siguiente función a cada valor de píxel en la imagen:\n",
    "\n",
    "    $$ H(x,y) = {(cdf(v)-cdfmin) \\over NM-1} $$\n",
    "\n",
    "    Donde $H(x,y)$ es el nuevo valor del píxel, $cdf(v)$ es el valor de la cdf en la intensidad de píxel $v$, $cdfmin$ es el valor mínimo de la cdf, L es el valor máximo de intensidades de pixel y $N$ y $M$ son las dimensiones del array. Despues de lo anterior se debe devolver la imagen con la transformación realizada.\n",
    "\n",
    "2. Implemente el código para la siguiente función que realiza una transformación de ley de potencia en una imagen. Esta función debe tomar una matriz de imágenes y el valor gamma que se usará en la transformación como sus únicos parámetros de entrada. La función debe devolver una nueva matriz de imágenes que es la transformación de potencia de la imagen original. Las transformaciones de ley de potencia se logran utilizando la siguiente fórmula:\n",
    "\n",
    "\n",
    "donde está el valor del píxel de salida, es el valor del píxel original, es el parámetro que controla la transformación de la ley de potencia y $\\gamma$ es una constante que generalmente se establece en 1. Tenga en cuenta que convierte la imagen para que los valores de $\\gamma$ intensidad estén en el rango de 0.0 a 1.0, en lugar de 0 a 255.\n",
    "\n",
    "Pruebe esta nueva función en las imágenes spine.jpg y runway.jpg, experimentando con diferentes valores para\n"
   ]
  },
  {
   "cell_type": "code",
   "execution_count": null,
   "id": "6f08fdcc",
   "metadata": {},
   "outputs": [],
   "source": []
  },
  {
   "cell_type": "code",
   "execution_count": null,
   "id": "33c892a2",
   "metadata": {},
   "outputs": [],
   "source": []
  }
 ],
 "metadata": {
  "kernelspec": {
   "display_name": "Python 3 (ipykernel)",
   "language": "python",
   "name": "python3"
  },
  "language_info": {
   "codemirror_mode": {
    "name": "ipython",
    "version": 3
   },
   "file_extension": ".py",
   "mimetype": "text/x-python",
   "name": "python",
   "nbconvert_exporter": "python",
   "pygments_lexer": "ipython3",
   "version": "3.10.6"
  }
 },
 "nbformat": 4,
 "nbformat_minor": 5
}
